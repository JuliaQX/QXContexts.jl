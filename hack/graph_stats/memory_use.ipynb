{
 "cells": [
  {
   "cell_type": "code",
   "execution_count": 1,
   "id": "funny-bouquet",
   "metadata": {},
   "outputs": [
    {
     "name": "stdout",
     "output_type": "stream",
     "text": [
      "\u001b[36m\u001b[1m     Project\u001b[22m\u001b[39m QXContexts v0.2.1\n",
      "\u001b[32m\u001b[1m      Status\u001b[22m\u001b[39m `~/code/QXContexts/Project.toml`\n",
      " \u001b[90m [1520ce14] \u001b[39m\u001b[37mAbstractTrees v0.3.4\u001b[39m\n",
      " \u001b[90m [c7e460c6] \u001b[39m\u001b[37mArgParse v1.1.4\u001b[39m\n",
      " \u001b[90m [6e4b80f9] \u001b[39m\u001b[37mBenchmarkTools v1.0.0\u001b[39m\n",
      " \u001b[90m [052768ef] \u001b[39m\u001b[37mCUDA v3.3.0\u001b[39m\n",
      " \u001b[90m [864edb3b] \u001b[39m\u001b[37mDataStructures v0.18.9\u001b[39m\n",
      " \u001b[90m [5789e2e9] \u001b[39m\u001b[37mFileIO v1.9.1\u001b[39m\n",
      " \u001b[90m [033835bb] \u001b[39m\u001b[37mJLD2 v0.4.9\u001b[39m\n",
      " \u001b[90m [50d2b5c4] \u001b[39m\u001b[37mLazy v0.15.1\u001b[39m\n",
      " \u001b[90m [da04e1cc] \u001b[39m\u001b[37mMPI v0.18.0\u001b[39m\n",
      " \u001b[90m [ebe7aa44] \u001b[39m\u001b[37mOMEinsum v0.4.4\u001b[39m\n",
      " \u001b[90m [9b87118b] \u001b[39m\u001b[37mPackageCompiler v1.2.6\u001b[39m\n",
      " \u001b[90m [189a3867] \u001b[39m\u001b[37mReexport v1.1.0\u001b[39m\n",
      " \u001b[90m [98d24dd4] \u001b[39m\u001b[37mTestSetExtensions v2.0.0\u001b[39m\n",
      " \u001b[90m [a759f4b9] \u001b[39m\u001b[37mTimerOutputs v0.5.9\u001b[39m\n",
      " \u001b[90m [ddb6d928] \u001b[39m\u001b[37mYAML v0.4.7\u001b[39m\n",
      " \u001b[90m [ade2ca70] \u001b[39m\u001b[37mDates\u001b[39m\n",
      " \u001b[90m [8f399da3] \u001b[39m\u001b[37mLibdl\u001b[39m\n",
      " \u001b[90m [37e2e46d] \u001b[39m\u001b[37mLinearAlgebra\u001b[39m\n",
      " \u001b[90m [56ddb016] \u001b[39m\u001b[37mLogging\u001b[39m\n",
      " \u001b[90m [44cfe95a] \u001b[39m\u001b[37mPkg\u001b[39m\n",
      " \u001b[90m [9a3f8284] \u001b[39m\u001b[37mRandom\u001b[39m\n",
      " \u001b[90m [cf7118a7] \u001b[39m\u001b[37mUUIDs\u001b[39m\n"
     ]
    }
   ],
   "source": [
    "using Pkg\n",
    "Pkg.status(io=stdout)"
   ]
  },
  {
   "cell_type": "code",
   "execution_count": 2,
   "id": "treated-portugal",
   "metadata": {},
   "outputs": [
    {
     "name": "stderr",
     "output_type": "stream",
     "text": [
      "┌ Info: Precompiling QXContexts [04c26001-d4a1-49d2-b090-1d469cf06784]\n",
      "└ @ Base loading.jl:1317\n"
     ]
    },
    {
     "name": "stdout",
     "output_type": "stream",
     "text": [
      "OMEinsum: YOU FIND CUDA!\n"
     ]
    }
   ],
   "source": [
    "using QXContexts"
   ]
  },
  {
   "cell_type": "code",
   "execution_count": 67,
   "id": "compound-genealogy",
   "metadata": {},
   "outputs": [
    {
     "data": {
      "text/plain": [
       "(ComputeGraph(ComputeNode{SaveCommand}: children: 1299, depth: 73, balance: 0.1506849315068493, max_degree: 23, Dict{Symbol, AbstractArray}(:data_5 => ComplexF64[1.0 + 0.0im, 0.7071067811865475 + 0.7071067811865475im], :data_1 => ComplexF64[1.0 + 0.0im, 0.0 + 0.0im], :data_6 => ComplexF64[0.4999999999999995 + 0.49999999999999983im 0.49999999999999967 - 0.49999999999999983im; 0.49999999999999967 - 0.49999999999999983im 0.49999999999999983 + 0.49999999999999983im], :data_7 => ComplexF64[0.4999999999999999 + 0.4999999999999999im -0.4999999999999999 - 0.4999999999999999im; 0.4999999999999999 + 0.4999999999999999im 0.4999999999999999 + 0.4999999999999999im], :data_3 => ComplexF64[-0.3446133714352872 + 0.0im 1.1381806476131544 + 0.0im; -1.1381806476131544 + 0.0im -0.3446133714352875 + 0.0im], :data_4 => ComplexF64[-1.0484937059720079 + 0.0im 0.5611368023131075 + 0.0im; 0.5611368023131075 + 0.0im 1.0484937059720079 + 0.0im], :data_2 => ComplexF64[0.7071067811865475 + 0.0im 0.7071067811865475 + 0.0im; 0.7071067811865475 + 0.0im -0.7071067811865475 + 0.0im])), Dict{Any, Any}(\"Slicing\" => Dict{Any, Any}(\"Edges sliced\" => 2, \"Method used\" => \"greedy treewidth deletion\", \"Score fucntion used\" => \"direct_treewidth\", \"Treewidths after slicing consecutive edges\" => [22, 21]), \"Determination of contraction plan\" => Dict{Any, Any}(\"Seed used\" => -1, \"Returned metadata\" => Dict{Any, Any}(5 => \"c run with 0.0/0.1/0.2 min balance and node_min_expansion in endless loop with varying seed\", 4 => \"c status 24 1624136958753\", 2 => \"c status 27 1624136958747\", 3 => \"c min shortcut heuristic\", 1 => \"c min degree heuristic\"), \"Hyperedge contraction method\" => \"Netcon where possible, min fill heuristic otherwise.\", \"Hypergraph used\" => true, \"Method used\" => \"flow cutter\", \"Treewidth\" => 23, \"Time allocated\" => 120)))"
      ]
     },
     "execution_count": 67,
     "metadata": {},
     "output_type": "execute_result"
    }
   ],
   "source": [
    "# prefix = \"../../examples/ghz/ghz_5\"\n",
    "prefix = \"../../examples/rqc/rqc_5_5_32\"\n",
    "cg, _ = parse_dsl_files([prefix * x for x in [\".qx\", \".jld2\"]]...)"
   ]
  },
  {
   "cell_type": "code",
   "execution_count": 68,
   "id": "political-breakdown",
   "metadata": {},
   "outputs": [
    {
     "data": {
      "text/plain": [
       "ComputeGraph(ComputeNode{SaveCommand}: children: 1299, depth: 73, balance: 0.1506849315068493, max_degree: 23, Dict{Symbol, AbstractArray}(:data_5 => ComplexF64[1.0 + 0.0im, 0.7071067811865475 + 0.7071067811865475im], :data_1 => ComplexF64[1.0 + 0.0im, 0.0 + 0.0im], :data_6 => ComplexF64[0.4999999999999995 + 0.49999999999999983im 0.49999999999999967 - 0.49999999999999983im; 0.49999999999999967 - 0.49999999999999983im 0.49999999999999983 + 0.49999999999999983im], :data_7 => ComplexF64[0.4999999999999999 + 0.4999999999999999im -0.4999999999999999 - 0.4999999999999999im; 0.4999999999999999 + 0.4999999999999999im 0.4999999999999999 + 0.4999999999999999im], :data_3 => ComplexF64[-0.3446133714352872 + 0.0im 1.1381806476131544 + 0.0im; -1.1381806476131544 + 0.0im -0.3446133714352875 + 0.0im], :data_4 => ComplexF64[-1.0484937059720079 + 0.0im 0.5611368023131075 + 0.0im; 0.5611368023131075 + 0.0im 1.0484937059720079 + 0.0im], :data_2 => ComplexF64[0.7071067811865475 + 0.0im 0.7071067811865475 + 0.0im; 0.7071067811865475 + 0.0im -0.7071067811865475 + 0.0im]))"
      ]
     },
     "execution_count": 68,
     "metadata": {},
     "output_type": "execute_result"
    }
   ],
   "source": [
    "cg"
   ]
  },
  {
   "cell_type": "code",
   "execution_count": 69,
   "id": "collected-words",
   "metadata": {},
   "outputs": [
    {
     "data": {
      "text/plain": [
       "track_memory (generic function with 1 method)"
      ]
     },
     "execution_count": 69,
     "metadata": {},
     "output_type": "execute_result"
    }
   ],
   "source": [
    "memory_numbers(::AbstractCommand) = 0\n",
    "memory_numbers(l::LoadCommand) = prod(l.dims)\n",
    "memory_numbers(c::ContractCommand) = 1 << length(c.output_idxs) - (1 << length(c.left_idxs) + 1 << length(c.right_idxs))\n",
    "memory_numbers(o::OutputCommand) = o.dim\n",
    "\n",
    "update_set!(s, ::AbstractCommand) = nothing\n",
    "update_set!(s, l::LoadCommand) = begin push!(s, l.name); nothing end\n",
    "update_set!(s, v::ViewCommand) = begin setdiff!(s, [v.input_sym]); push!(s, v.output_sym); nothing end\n",
    "update_set!(s, c::ContractCommand) = begin setdiff!(s, [c.left_name, c.right_name]); push!(s, c.output_name); nothing end\n",
    "update_set!(s, c::SaveCommand) = begin setdiff!(s, [c.label]); push!(s, c.name); nothing end\n",
    "update_set!(s, o::OutputCommand) = begin push!(s, o.name); nothing end\n",
    "\n",
    "function track_memory(cmds)\n",
    "    memory = 0\n",
    "    syms = Set()\n",
    "    history = Int[]\n",
    "    for cmd in cmds\n",
    "        cmd_memory = memory_numbers(cmd)\n",
    "        update_set!(syms, cmd)\n",
    "        memory += cmd_memory\n",
    "        push!(history, memory)\n",
    "    end\n",
    "    memory, history\n",
    "end"
   ]
  },
  {
   "cell_type": "code",
   "execution_count": 70,
   "id": "paperback-replication",
   "metadata": {},
   "outputs": [
    {
     "data": {
      "text/plain": [
       "(1, [2, 2, 6, 6, 8, 4, 2, 4, 4, 4  …  54, 52, 32, 30, 26, 16, 14, 8, 1, 1])"
      ]
     },
     "execution_count": 70,
     "metadata": {},
     "output_type": "execute_result"
    }
   ],
   "source": [
    "m, h = track_memory(get_commands(cg))"
   ]
  },
  {
   "cell_type": "code",
   "execution_count": 71,
   "id": "following-tobago",
   "metadata": {},
   "outputs": [
    {
     "data": {
      "text/plain": [
       "67142896"
      ]
     },
     "execution_count": 71,
     "metadata": {},
     "output_type": "execute_result"
    }
   ],
   "source": [
    "maximum(h) * 8 "
   ]
  },
  {
   "cell_type": "code",
   "execution_count": 66,
   "id": "corresponding-orientation",
   "metadata": {},
   "outputs": [],
   "source": [
    "using FileIO"
   ]
  },
  {
   "cell_type": "code",
   "execution_count": 42,
   "id": "peaceful-hours",
   "metadata": {},
   "outputs": [
    {
     "data": {
      "text/plain": [
       "Dict{String, Any} with 4 entries:\n",
       "  \"data_2\" => ComplexF64[0.707107+0.0im 0.707107+0.0im; 0.707107+0.0im -0.70710…\n",
       "  \"data_1\" => ComplexF64[1.0+0.0im, 0.0+0.0im]\n",
       "  \"data_4\" => ComplexF64[-1.18921+0.0im, 1.18921+0.0im]\n",
       "  \"data_3\" => ComplexF64[-0.840896+0.0im 0.0+0.0im; 0.0+0.0im -0.840896+0.0im]…"
      ]
     },
     "execution_count": 42,
     "metadata": {},
     "output_type": "execute_result"
    }
   ],
   "source": [
    "d = load(prefix * \".jld2\")"
   ]
  },
  {
   "cell_type": "code",
   "execution_count": 43,
   "id": "british-animal",
   "metadata": {},
   "outputs": [
    {
     "data": {
      "text/plain": [
       "2-element Vector{ComplexF64}:\n",
       " -1.189207115002721 + 0.0im\n",
       " 1.1892071150027208 + 0.0im"
      ]
     },
     "execution_count": 43,
     "metadata": {},
     "output_type": "execute_result"
    }
   ],
   "source": [
    "d[\"data_4\"]"
   ]
  },
  {
   "cell_type": "code",
   "execution_count": null,
   "id": "narrow-andrew",
   "metadata": {},
   "outputs": [],
   "source": []
  }
 ],
 "metadata": {
  "kernelspec": {
   "display_name": "Julia 1.6.1",
   "language": "julia",
   "name": "julia-1.6"
  },
  "language_info": {
   "file_extension": ".jl",
   "mimetype": "application/julia",
   "name": "julia",
   "version": "1.6.1"
  }
 },
 "nbformat": 4,
 "nbformat_minor": 5
}
